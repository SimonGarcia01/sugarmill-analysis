{
 "cells": [
  {
   "cell_type": "markdown",
   "id": "bfa6f9f6",
   "metadata": {},
   "source": [
    "# Lab Models for Regression and Classification"
   ]
  },
  {
   "cell_type": "code",
   "execution_count": 70,
   "id": "4ce27048",
   "metadata": {},
   "outputs": [],
   "source": [
    "import numpy as np\n",
    "import pandas as pd\n",
    "import matplotlib.pyplot as plt\n",
    "import seaborn as sns\n",
    "from sklearn.model_selection import train_test_split\n",
    "from sklearn.metrics import accuracy_score, precision_score, recall_score, f1_score, cohen_kappa_score\n",
    "from sklearn.preprocessing import StandardScaler\n",
    "from sklearn.model_selection import cross_val_score"
   ]
  },
  {
   "cell_type": "markdown",
   "id": "e61d3009",
   "metadata": {},
   "source": [
    "## Regression models"
   ]
  },
  {
   "cell_type": "markdown",
   "metadata": {},
   "source": [
    "## Classification Models"
   ]
  },
  {
   "cell_type": "code",
   "execution_count": 2,
   "id": "ef308752",
   "metadata": {},
   "outputs": [
    {
     "data": {
      "text/html": [
       "<div>\n",
       "<style scoped>\n",
       "    .dataframe tbody tr th:only-of-type {\n",
       "        vertical-align: middle;\n",
       "    }\n",
       "\n",
       "    .dataframe tbody tr th {\n",
       "        vertical-align: top;\n",
       "    }\n",
       "\n",
       "    .dataframe thead th {\n",
       "        text-align: right;\n",
       "    }\n",
       "</style>\n",
       "<table border=\"1\" class=\"dataframe\">\n",
       "  <thead>\n",
       "    <tr style=\"text-align: right;\">\n",
       "      <th></th>\n",
       "      <th>NOME</th>\n",
       "      <th>FAZ</th>\n",
       "      <th>TAL</th>\n",
       "      <th>dosismad</th>\n",
       "      <th>semsmad</th>\n",
       "      <th>edad</th>\n",
       "      <th>cortes</th>\n",
       "      <th>vejez</th>\n",
       "      <th>sacarosa</th>\n",
       "      <th>mes</th>\n",
       "      <th>periodo</th>\n",
       "      <th>TCH</th>\n",
       "      <th>lluvias</th>\n",
       "      <th>grupo_tenencia</th>\n",
       "      <th>pct_diatrea</th>\n",
       "      <th>sacarosa_nivel</th>\n",
       "      <th>TCH_nivel</th>\n",
       "    </tr>\n",
       "  </thead>\n",
       "  <tbody>\n",
       "    <tr>\n",
       "      <th>0</th>\n",
       "      <td>AMAIME SILCA</td>\n",
       "      <td>81291</td>\n",
       "      <td>40</td>\n",
       "      <td>0.8</td>\n",
       "      <td>8.3</td>\n",
       "      <td>12.3</td>\n",
       "      <td>4</td>\n",
       "      <td>2.4</td>\n",
       "      <td>14.0</td>\n",
       "      <td>12</td>\n",
       "      <td>202012</td>\n",
       "      <td>112</td>\n",
       "      <td>137</td>\n",
       "      <td>3</td>\n",
       "      <td>6.2</td>\n",
       "      <td>Alto</td>\n",
       "      <td>Bajo</td>\n",
       "    </tr>\n",
       "    <tr>\n",
       "      <th>1</th>\n",
       "      <td>AMAIME SILCA</td>\n",
       "      <td>81291</td>\n",
       "      <td>41</td>\n",
       "      <td>0.8</td>\n",
       "      <td>6.3</td>\n",
       "      <td>11.2</td>\n",
       "      <td>2</td>\n",
       "      <td>2.3</td>\n",
       "      <td>13.0</td>\n",
       "      <td>3</td>\n",
       "      <td>201903</td>\n",
       "      <td>157</td>\n",
       "      <td>0</td>\n",
       "      <td>3</td>\n",
       "      <td>3.5</td>\n",
       "      <td>Medio</td>\n",
       "      <td>Alto</td>\n",
       "    </tr>\n",
       "    <tr>\n",
       "      <th>2</th>\n",
       "      <td>AMAIME SILCA</td>\n",
       "      <td>81291</td>\n",
       "      <td>41</td>\n",
       "      <td>0.6</td>\n",
       "      <td>7.9</td>\n",
       "      <td>12.2</td>\n",
       "      <td>3</td>\n",
       "      <td>1.8</td>\n",
       "      <td>13.3</td>\n",
       "      <td>3</td>\n",
       "      <td>202003</td>\n",
       "      <td>167</td>\n",
       "      <td>68</td>\n",
       "      <td>3</td>\n",
       "      <td>4.3</td>\n",
       "      <td>Alto</td>\n",
       "      <td>Alto</td>\n",
       "    </tr>\n",
       "    <tr>\n",
       "      <th>3</th>\n",
       "      <td>AMAIME SILCA</td>\n",
       "      <td>81291</td>\n",
       "      <td>43</td>\n",
       "      <td>0.8</td>\n",
       "      <td>6.6</td>\n",
       "      <td>13.1</td>\n",
       "      <td>1</td>\n",
       "      <td>2.5</td>\n",
       "      <td>13.4</td>\n",
       "      <td>3</td>\n",
       "      <td>201903</td>\n",
       "      <td>156</td>\n",
       "      <td>0</td>\n",
       "      <td>3</td>\n",
       "      <td>3.5</td>\n",
       "      <td>Alto</td>\n",
       "      <td>Alto</td>\n",
       "    </tr>\n",
       "    <tr>\n",
       "      <th>4</th>\n",
       "      <td>AMAIME SILCA</td>\n",
       "      <td>81291</td>\n",
       "      <td>43</td>\n",
       "      <td>0.6</td>\n",
       "      <td>8.1</td>\n",
       "      <td>12.2</td>\n",
       "      <td>2</td>\n",
       "      <td>2.1</td>\n",
       "      <td>14.0</td>\n",
       "      <td>3</td>\n",
       "      <td>202003</td>\n",
       "      <td>151</td>\n",
       "      <td>68</td>\n",
       "      <td>3</td>\n",
       "      <td>4.3</td>\n",
       "      <td>Alto</td>\n",
       "      <td>Medio</td>\n",
       "    </tr>\n",
       "  </tbody>\n",
       "</table>\n",
       "</div>"
      ],
      "text/plain": [
       "           NOME    FAZ TAL  dosismad  semsmad  edad  cortes  vejez  sacarosa  \\\n",
       "0  AMAIME SILCA  81291  40       0.8      8.3  12.3       4    2.4      14.0   \n",
       "1  AMAIME SILCA  81291  41       0.8      6.3  11.2       2    2.3      13.0   \n",
       "2  AMAIME SILCA  81291  41       0.6      7.9  12.2       3    1.8      13.3   \n",
       "3  AMAIME SILCA  81291  43       0.8      6.6  13.1       1    2.5      13.4   \n",
       "4  AMAIME SILCA  81291  43       0.6      8.1  12.2       2    2.1      14.0   \n",
       "\n",
       "   mes  periodo  TCH  lluvias  grupo_tenencia  pct_diatrea sacarosa_nivel  \\\n",
       "0   12   202012  112      137               3          6.2           Alto   \n",
       "1    3   201903  157        0               3          3.5          Medio   \n",
       "2    3   202003  167       68               3          4.3           Alto   \n",
       "3    3   201903  156        0               3          3.5           Alto   \n",
       "4    3   202003  151       68               3          4.3           Alto   \n",
       "\n",
       "  TCH_nivel  \n",
       "0      Bajo  \n",
       "1      Alto  \n",
       "2      Alto  \n",
       "3      Alto  \n",
       "4     Medio  "
      ]
     },
     "execution_count": 2,
     "metadata": {},
     "output_type": "execute_result"
    }
   ],
   "source": [
    "dfB = pd.read_csv(\"../data/dfIPSA_clean.csv\")\n",
    "dfB.head(5)"
   ]
  },
  {
   "cell_type": "code",
   "execution_count": null,
   "id": "aeb691ad",
   "metadata": {},
   "outputs": [
    {
     "data": {
      "text/plain": [
       "sacarosa_nivel\n",
       "Bajo     761\n",
       "Alto     716\n",
       "Medio    710\n",
       "Name: count, dtype: int64"
      ]
     },
     "execution_count": 4,
     "metadata": {},
     "output_type": "execute_result"
    }
   ],
   "source": [
    "targetSac = dfB['sacarosa_nivel']\n",
    "dfB.drop('sacarosa_nivel', axis=1, inplace=True)\n",
    "targetSac.value_counts()"
   ]
  },
  {
   "cell_type": "code",
   "execution_count": 7,
   "id": "5bb11fba",
   "metadata": {},
   "outputs": [
    {
     "data": {
      "text/plain": [
       "TCH_nivel\n",
       "Bajo     754\n",
       "Alto     728\n",
       "Medio    705\n",
       "Name: count, dtype: int64"
      ]
     },
     "execution_count": 7,
     "metadata": {},
     "output_type": "execute_result"
    }
   ],
   "source": [
    "targetTCH = dfB['TCH_nivel']\n",
    "dfB.drop('TCH_nivel', axis=1, inplace=True)\n",
    "targetTCH.value_counts()"
   ]
  },
  {
   "cell_type": "code",
   "execution_count": 11,
   "id": "b3fee5e8",
   "metadata": {},
   "outputs": [],
   "source": [
    "dfB.drop(['sacarosa', 'TCH'], axis=1, inplace=True) #Take out the original predictor continous variables"
   ]
  },
  {
   "cell_type": "code",
   "execution_count": 15,
   "id": "03be7959",
   "metadata": {},
   "outputs": [],
   "source": [
    "dfB.drop(['NOME', 'FAZ', 'TAL'], axis=1, inplace=True) #Drop the identifier columns"
   ]
  },
  {
   "cell_type": "code",
   "execution_count": 16,
   "id": "309b00a8",
   "metadata": {},
   "outputs": [
    {
     "name": "stdout",
     "output_type": "stream",
     "text": [
      "<class 'pandas.core.frame.DataFrame'>\n",
      "RangeIndex: 2187 entries, 0 to 2186\n",
      "Data columns (total 10 columns):\n",
      " #   Column          Non-Null Count  Dtype  \n",
      "---  ------          --------------  -----  \n",
      " 0   dosismad        2187 non-null   float64\n",
      " 1   semsmad         2187 non-null   float64\n",
      " 2   edad            2187 non-null   float64\n",
      " 3   cortes          2187 non-null   int64  \n",
      " 4   vejez           2187 non-null   float64\n",
      " 5   mes             2187 non-null   int64  \n",
      " 6   periodo         2187 non-null   int64  \n",
      " 7   lluvias         2187 non-null   int64  \n",
      " 8   grupo_tenencia  2187 non-null   int64  \n",
      " 9   pct_diatrea     2187 non-null   float64\n",
      "dtypes: float64(5), int64(5)\n",
      "memory usage: 171.0 KB\n"
     ]
    }
   ],
   "source": [
    "dfB.info()"
   ]
  },
  {
   "cell_type": "code",
   "execution_count": 18,
   "id": "def9ad07",
   "metadata": {},
   "outputs": [],
   "source": [
    "from sklearn.linear_model import LogisticRegression"
   ]
  },
  {
   "cell_type": "markdown",
   "id": "e3d8b264",
   "metadata": {},
   "source": [
    "### Logistic Regression"
   ]
  },
  {
   "cell_type": "code",
   "execution_count": 82,
   "id": "528ceaf0",
   "metadata": {},
   "outputs": [],
   "source": [
    "#Variables for the Sucrose models\n",
    "X_trainSac, X_testSac, y_trainSac, y_testSac = train_test_split(dfB, targetSac, test_size=0.20, random_state=42)\n",
    "scalerSac = StandardScaler()\n",
    "X_trainSac = scalerSac.fit_transform(X_trainSac)\n",
    "X_testSac = scalerSac.transform(X_testSac)"
   ]
  },
  {
   "cell_type": "code",
   "execution_count": 84,
   "id": "a2e393fc",
   "metadata": {},
   "outputs": [],
   "source": [
    "#models for the TCH models\n",
    "X_trainTCH, X_testTCH, y_trainTCH, y_testTCH = train_test_split(dfB, targetTCH, test_size=0.20, random_state=42)\n",
    "scalerTCH = StandardScaler()\n",
    "X_trainTCH = scalerTCH.fit_transform(X_trainTCH)\n",
    "X_testTCH = scalerTCH.transform(X_testTCH)"
   ]
  },
  {
   "cell_type": "markdown",
   "id": "d1ad7a6b",
   "metadata": {},
   "source": [
    "#### Sucrose Levels"
   ]
  },
  {
   "cell_type": "code",
   "execution_count": 83,
   "id": "9d9f8d28",
   "metadata": {},
   "outputs": [
    {
     "name": "stdout",
     "output_type": "stream",
     "text": [
      "\n",
      "--- Solver: lbfgs, C: 0.01 ---\n",
      "Accuracy:  0.4041095890410959\n",
      "Precision:  0.39250799955864507\n",
      "Recall:  0.39933265205004337\n",
      "F1 Score:  0.39463325504780117\n",
      "Kappa Score:  0.103219429539678\n",
      "\n",
      "--- Solver: lbfgs, C: 0.1 ---\n",
      "Accuracy:  0.4018264840182648\n",
      "Precision:  0.38920491273432445\n",
      "Recall:  0.39673913043478254\n",
      "F1 Score:  0.39150920245398774\n",
      "Kappa Score:  0.09927474804558722\n",
      "\n",
      "--- Solver: lbfgs, C: 1 ---\n",
      "Accuracy:  0.3995433789954338\n",
      "Precision:  0.38729468852001186\n",
      "Recall:  0.3946023782980304\n",
      "F1 Score:  0.3896087445091429\n",
      "Kappa Score:  0.09596459010218039\n",
      "\n",
      "--- Solver: lbfgs, C: 10 ---\n",
      "Accuracy:  0.3995433789954338\n",
      "Precision:  0.38729468852001186\n",
      "Recall:  0.3946023782980304\n",
      "F1 Score:  0.3896087445091429\n",
      "Kappa Score:  0.09596459010218039\n",
      "\n",
      "--- Solver: newton-cg, C: 0.01 ---\n",
      "Accuracy:  0.4041095890410959\n",
      "Precision:  0.39250799955864507\n",
      "Recall:  0.39933265205004337\n",
      "F1 Score:  0.39463325504780117\n",
      "Kappa Score:  0.103219429539678\n",
      "\n",
      "--- Solver: newton-cg, C: 0.1 ---\n",
      "Accuracy:  0.4018264840182648\n",
      "Precision:  0.38920491273432445\n",
      "Recall:  0.39673913043478254\n",
      "F1 Score:  0.39150920245398774\n",
      "Kappa Score:  0.09927474804558722\n",
      "\n",
      "--- Solver: newton-cg, C: 1 ---\n",
      "Accuracy:  0.3995433789954338\n",
      "Precision:  0.38729468852001186\n",
      "Recall:  0.3946023782980304\n",
      "F1 Score:  0.3896087445091429\n",
      "Kappa Score:  0.09596459010218039\n",
      "\n",
      "--- Solver: newton-cg, C: 10 ---\n",
      "Accuracy:  0.3995433789954338\n",
      "Precision:  0.38729468852001186\n",
      "Recall:  0.3946023782980304\n",
      "F1 Score:  0.3896087445091429\n",
      "Kappa Score:  0.09596459010218039\n",
      "\n",
      "--- Solver: saga, C: 0.01 ---\n",
      "Accuracy:  0.4041095890410959\n",
      "Precision:  0.39250799955864507\n",
      "Recall:  0.39933265205004337\n",
      "F1 Score:  0.39463325504780117\n",
      "Kappa Score:  0.103219429539678\n",
      "\n",
      "--- Solver: saga, C: 0.1 ---\n",
      "Accuracy:  0.4018264840182648\n",
      "Precision:  0.38920491273432445\n",
      "Recall:  0.39673913043478254\n",
      "F1 Score:  0.39150920245398774\n",
      "Kappa Score:  0.09927474804558722\n",
      "\n",
      "--- Solver: saga, C: 1 ---\n",
      "Accuracy:  0.3995433789954338\n",
      "Precision:  0.38729468852001186\n",
      "Recall:  0.3946023782980304\n",
      "F1 Score:  0.3896087445091429\n",
      "Kappa Score:  0.09596459010218039\n",
      "\n",
      "--- Solver: saga, C: 10 ---\n",
      "Accuracy:  0.3995433789954338\n",
      "Precision:  0.38729468852001186\n",
      "Recall:  0.3946023782980304\n",
      "F1 Score:  0.3896087445091429\n",
      "Kappa Score:  0.09596459010218039\n"
     ]
    }
   ],
   "source": [
    "solvers = ['lbfgs', 'newton-cg', 'saga']\n",
    "C_values = [0.01, 0.1, 1, 10]\n",
    "\n",
    "for solver in solvers:\n",
    "    for c in C_values:\n",
    "        print(f\"\\n--- Solver: {solver}, C: {c} ---\")\n",
    "        logModel = LogisticRegression(\n",
    "            solver=solver,\n",
    "            C=c,\n",
    "            penalty='l2',\n",
    "            max_iter=500,\n",
    "            random_state=42\n",
    "        )\n",
    "        \n",
    "        logModel.fit(X_trainSac, y_trainSac)\n",
    "\n",
    "        y_pred = logModel.predict(X_testSac)\n",
    "\n",
    "        print(\"Accuracy: \", accuracy_score(y_testSac, y_pred))\n",
    "        print(\"Precision: \", precision_score(y_testSac, y_pred, average='macro'))\n",
    "        print(\"Recall: \", recall_score(y_testSac, y_pred, average='macro'))\n",
    "        print(\"F1 Score: \", f1_score(y_testSac, y_pred, average='macro'))\n",
    "        print(\"Kappa Score: \", cohen_kappa_score(y_testSac, y_pred))"
   ]
  },
  {
   "cell_type": "markdown",
   "id": "65b0b531",
   "metadata": {},
   "source": [
    "#### TCH Levels"
   ]
  },
  {
   "cell_type": "code",
   "execution_count": 85,
   "id": "8e5bd81e",
   "metadata": {},
   "outputs": [
    {
     "name": "stdout",
     "output_type": "stream",
     "text": [
      "\n",
      "--- Solver: lbfgs, C: 0.01 ---\n",
      "Accuracy:  0.4634703196347032\n",
      "Precision:  0.44908297720797724\n",
      "Recall:  0.45113916960479744\n",
      "F1 Score:  0.4436151653643914\n",
      "Kappa Score:  0.18769828116861587\n",
      "\n",
      "--- Solver: lbfgs, C: 0.1 ---\n",
      "Accuracy:  0.4726027397260274\n",
      "Precision:  0.4586486352581505\n",
      "Recall:  0.4603805294048822\n",
      "F1 Score:  0.45390946502057616\n",
      "Kappa Score:  0.20170109356014587\n",
      "\n",
      "--- Solver: lbfgs, C: 1 ---\n",
      "Accuracy:  0.4680365296803653\n",
      "Precision:  0.4541567088050926\n",
      "Recall:  0.4557508997752526\n",
      "F1 Score:  0.4499782610893723\n",
      "Kappa Score:  0.195005363791254\n",
      "\n",
      "--- Solver: lbfgs, C: 10 ---\n",
      "Accuracy:  0.4680365296803653\n",
      "Precision:  0.4541567088050926\n",
      "Recall:  0.4557508997752526\n",
      "F1 Score:  0.4499782610893723\n",
      "Kappa Score:  0.195005363791254\n",
      "\n",
      "--- Solver: newton-cg, C: 0.01 ---\n",
      "Accuracy:  0.4634703196347032\n",
      "Precision:  0.44908297720797724\n",
      "Recall:  0.45113916960479744\n",
      "F1 Score:  0.4436151653643914\n",
      "Kappa Score:  0.18769828116861587\n",
      "\n",
      "--- Solver: newton-cg, C: 0.1 ---\n",
      "Accuracy:  0.4726027397260274\n",
      "Precision:  0.4586486352581505\n",
      "Recall:  0.4603805294048822\n",
      "F1 Score:  0.45390946502057616\n",
      "Kappa Score:  0.20170109356014587\n",
      "\n",
      "--- Solver: newton-cg, C: 1 ---\n",
      "Accuracy:  0.4680365296803653\n",
      "Precision:  0.4541567088050926\n",
      "Recall:  0.4557508997752526\n",
      "F1 Score:  0.4499782610893723\n",
      "Kappa Score:  0.195005363791254\n",
      "\n",
      "--- Solver: newton-cg, C: 10 ---\n",
      "Accuracy:  0.4680365296803653\n",
      "Precision:  0.4541567088050926\n",
      "Recall:  0.4557508997752526\n",
      "F1 Score:  0.4499782610893723\n",
      "Kappa Score:  0.195005363791254\n",
      "\n",
      "--- Solver: saga, C: 0.01 ---\n",
      "Accuracy:  0.4634703196347032\n",
      "Precision:  0.44908297720797724\n",
      "Recall:  0.45113916960479744\n",
      "F1 Score:  0.4436151653643914\n",
      "Kappa Score:  0.18769828116861587\n",
      "\n",
      "--- Solver: saga, C: 0.1 ---\n",
      "Accuracy:  0.4726027397260274\n",
      "Precision:  0.4586486352581505\n",
      "Recall:  0.4603805294048822\n",
      "F1 Score:  0.45390946502057616\n",
      "Kappa Score:  0.20170109356014587\n",
      "\n",
      "--- Solver: saga, C: 1 ---\n",
      "Accuracy:  0.4680365296803653\n",
      "Precision:  0.4541567088050926\n",
      "Recall:  0.4557508997752526\n",
      "F1 Score:  0.4499782610893723\n",
      "Kappa Score:  0.195005363791254\n",
      "\n",
      "--- Solver: saga, C: 10 ---\n",
      "Accuracy:  0.4680365296803653\n",
      "Precision:  0.4541567088050926\n",
      "Recall:  0.4557508997752526\n",
      "F1 Score:  0.4499782610893723\n",
      "Kappa Score:  0.195005363791254\n"
     ]
    }
   ],
   "source": [
    "solvers = ['lbfgs', 'newton-cg', 'saga']\n",
    "C_values = [0.01, 0.1, 1, 10]\n",
    "\n",
    "for solver in solvers:\n",
    "    for c in C_values:\n",
    "        print(f\"\\n--- Solver: {solver}, C: {c} ---\")\n",
    "        logModel = LogisticRegression(\n",
    "            solver=solver,\n",
    "            C=c,\n",
    "            penalty='l2',\n",
    "            max_iter=500,\n",
    "            random_state=42\n",
    "        )\n",
    "        \n",
    "        logModel.fit(X_trainTCH, y_trainTCH)\n",
    "\n",
    "        y_pred = logModel.predict(X_testTCH)\n",
    "\n",
    "        print(\"Accuracy: \", accuracy_score(y_testTCH, y_pred))\n",
    "        print(\"Precision: \", precision_score(y_testTCH, y_pred, average='macro'))\n",
    "        print(\"Recall: \", recall_score(y_testTCH, y_pred, average='macro'))\n",
    "        print(\"F1 Score: \", f1_score(y_testTCH, y_pred, average='macro'))\n",
    "        print(\"Kappa Score: \", cohen_kappa_score(y_testTCH, y_pred))"
   ]
  },
  {
   "cell_type": "markdown",
   "id": "9b3370fa",
   "metadata": {},
   "source": [
    "# De arriba solo elegi 1 de TCH y otro de Sac los que tengan el mejor f1 primero (más cercano a 2), luego kappa (más alto) y luego el resto. Pero creo que se repiten (Pero no estaba seguro del solver). Esos los metes al cross_val_score (metes esos parámetros)"
   ]
  },
  {
   "cell_type": "code",
   "execution_count": 87,
   "id": "547ce683",
   "metadata": {},
   "outputs": [
    {
     "name": "stdout",
     "output_type": "stream",
     "text": [
      "Cross validation F1 Score:  0.42512681187248447\n",
      "Cross validation F1 Score std:  0.0324527737073013\n"
     ]
    }
   ],
   "source": [
    "#Este para SAC\n",
    "logModel = LogisticRegression(solver=solver,C=c, penalty='l2', max_iter=500, random_state=42)\n",
    "scores = cross_val_score(logModel, X_trainSac, y_trainSac, cv=5, scoring='f1_macro')\n",
    "print(\"Cross validation F1 Score: \", scores.mean())\n",
    "print(\"Cross validation F1 Score std: \", scores.std())"
   ]
  },
  {
   "cell_type": "code",
   "execution_count": 88,
   "id": "220f7091",
   "metadata": {},
   "outputs": [
    {
     "name": "stdout",
     "output_type": "stream",
     "text": [
      "Cross validation F1 Score:  0.44794642518309136\n",
      "Cross validation F1 Score std:  0.016276443405243802\n"
     ]
    }
   ],
   "source": [
    "#Este para TCH\n",
    "logModel = LogisticRegression(solver=solver,C=c, penalty='l2', max_iter=500, random_state=42)\n",
    "scores = cross_val_score(logModel, X_trainTCH, y_trainTCH, cv=5, scoring='f1_macro')\n",
    "print(\"Cross validation F1 Score: \", scores.mean())\n",
    "print(\"Cross validation F1 Score std: \", scores.std())"
   ]
  },
  {
   "cell_type": "markdown",
   "id": "7cb93fde",
   "metadata": {},
   "source": [
    "### K-nearest Neighbors"
   ]
  },
  {
   "cell_type": "code",
   "execution_count": 72,
   "id": "ab9a0960",
   "metadata": {},
   "outputs": [],
   "source": [
    "from sklearn.neighbors import KNeighborsClassifier"
   ]
  },
  {
   "cell_type": "markdown",
   "id": "f1046a23",
   "metadata": {},
   "source": [
    "#### Sucrose Levels"
   ]
  },
  {
   "cell_type": "code",
   "execution_count": 91,
   "id": "62a90e8e",
   "metadata": {},
   "outputs": [
    {
     "name": "stdout",
     "output_type": "stream",
     "text": [
      "\n",
      "--- KNN with k = 3 ---\n",
      "Accuracy:      0.4634703196347032\n",
      "Precision:     0.45446097138250136\n",
      "Recall:        0.4561810974854454\n",
      "F1 Score:      0.45043433718059184\n",
      "Kappa Score:   0.1897699900817078\n",
      "\n",
      "--- KNN with k = 5 ---\n",
      "Accuracy:      0.4589041095890411\n",
      "Precision:     0.4358543540250055\n",
      "Recall:        0.45117985878855443\n",
      "F1 Score:      0.4382828993666432\n",
      "Kappa Score:   0.1826814058956916\n",
      "\n",
      "--- KNN with k = 7 ---\n",
      "Accuracy:      0.4680365296803653\n",
      "Precision:     0.4530504176944626\n",
      "Recall:        0.46284683512944386\n",
      "F1 Score:      0.4564039345945314\n",
      "Kappa Score:   0.19916191911106929\n",
      "\n",
      "--- KNN with k = 9 ---\n",
      "Accuracy:      0.4657534246575342\n",
      "Precision:     0.45330925169805814\n",
      "Recall:        0.46098878979313757\n",
      "F1 Score:      0.4544398934554699\n",
      "Kappa Score:   0.19470111257778622\n",
      "\n",
      "--- KNN with k = 10 ---\n",
      "Accuracy:      0.4634703196347032\n",
      "Precision:     0.4468281960209632\n",
      "Recall:        0.45890623064536107\n",
      "F1 Score:      0.44989816061800586\n",
      "Kappa Score:   0.19171692423671305\n",
      "\n",
      "--- KNN with k = 15 ---\n",
      "Accuracy:      0.4954337899543379\n",
      "Precision:     0.4822773788474303\n",
      "Recall:        0.4910271893967546\n",
      "F1 Score:      0.4825147995504759\n",
      "Kappa Score:   0.2398341422042124\n",
      "\n",
      "--- KNN with k = 20 ---\n",
      "Accuracy:      0.4840182648401826\n",
      "Precision:     0.466658064322818\n",
      "Recall:        0.4781369998761303\n",
      "F1 Score:      0.4667355251168832\n",
      "Kappa Score:   0.2214619413902129\n",
      "\n",
      "--- KNN with k = 30 ---\n",
      "Accuracy:      0.4611872146118721\n",
      "Precision:     0.44461699780404246\n",
      "Recall:        0.4562352904744209\n",
      "F1 Score:      0.4467816922172772\n",
      "Kappa Score:   0.1882391744805164\n",
      "\n",
      "--- KNN with k = 100 ---\n",
      "Accuracy:      0.4429223744292237\n",
      "Precision:     0.4227006351545777\n",
      "Recall:        0.43891675956893356\n",
      "F1 Score:      0.42657515849878963\n",
      "Kappa Score:   0.16139359698681743\n"
     ]
    }
   ],
   "source": [
    "k_values = [3, 5, 7, 9, 10, 15, 20, 30, 100]\n",
    "\n",
    "for k in k_values:\n",
    "    print(f\"\\n--- KNN with k = {k} ---\")\n",
    "\n",
    "    knn = KNeighborsClassifier(n_neighbors=k)\n",
    "    knn.fit(X_trainSac, y_trainSac)\n",
    "    y_pred = knn.predict(X_testSac)\n",
    "\n",
    "    print(\"Accuracy:     \", accuracy_score(y_testSac, y_pred))\n",
    "    print(\"Precision:    \", precision_score(y_testSac, y_pred, average='macro'))\n",
    "    print(\"Recall:       \", recall_score(y_testSac, y_pred, average='macro'))\n",
    "    print(\"F1 Score:     \", f1_score(y_testSac, y_pred, average='macro'))\n",
    "    print(\"Kappa Score:  \", cohen_kappa_score(y_testSac, y_pred))"
   ]
  },
  {
   "cell_type": "markdown",
   "id": "06757061",
   "metadata": {},
   "source": [
    "#### TCH Levels"
   ]
  },
  {
   "cell_type": "code",
   "execution_count": 92,
   "id": "7ab5f413",
   "metadata": {},
   "outputs": [
    {
     "name": "stdout",
     "output_type": "stream",
     "text": [
      "\n",
      "--- KNN with k = 3 ---\n",
      "Accuracy:      0.3242009132420091\n",
      "Precision:     0.3297296791475126\n",
      "Recall:        0.3226429904844728\n",
      "F1 Score:      0.323478816121275\n",
      "Kappa Score:   -0.022710599594538028\n",
      "\n",
      "--- KNN with k = 5 ---\n",
      "Accuracy:      0.3242009132420091\n",
      "Precision:     0.3297296791475126\n",
      "Recall:        0.3226429904844728\n",
      "F1 Score:      0.323478816121275\n",
      "Kappa Score:   -0.022710599594538028\n",
      "\n",
      "--- KNN with k = 7 ---\n",
      "Accuracy:      0.3242009132420091\n",
      "Precision:     0.3297296791475126\n",
      "Recall:        0.3226429904844728\n",
      "F1 Score:      0.323478816121275\n",
      "Kappa Score:   -0.022710599594538028\n",
      "\n",
      "--- KNN with k = 9 ---\n",
      "Accuracy:      0.3242009132420091\n",
      "Precision:     0.3297296791475126\n",
      "Recall:        0.3226429904844728\n",
      "F1 Score:      0.323478816121275\n",
      "Kappa Score:   -0.022710599594538028\n",
      "\n",
      "--- KNN with k = 10 ---\n",
      "Accuracy:      0.3242009132420091\n",
      "Precision:     0.3297296791475126\n",
      "Recall:        0.3226429904844728\n",
      "F1 Score:      0.323478816121275\n",
      "Kappa Score:   -0.022710599594538028\n",
      "\n",
      "--- KNN with k = 15 ---\n",
      "Accuracy:      0.3242009132420091\n",
      "Precision:     0.3297296791475126\n",
      "Recall:        0.3226429904844728\n",
      "F1 Score:      0.323478816121275\n",
      "Kappa Score:   -0.022710599594538028\n",
      "\n",
      "--- KNN with k = 20 ---\n",
      "Accuracy:      0.3242009132420091\n",
      "Precision:     0.3297296791475126\n",
      "Recall:        0.3226429904844728\n",
      "F1 Score:      0.323478816121275\n",
      "Kappa Score:   -0.022710599594538028\n",
      "\n",
      "--- KNN with k = 30 ---\n",
      "Accuracy:      0.3242009132420091\n",
      "Precision:     0.3297296791475126\n",
      "Recall:        0.3226429904844728\n",
      "F1 Score:      0.323478816121275\n",
      "Kappa Score:   -0.022710599594538028\n",
      "\n",
      "--- KNN with k = 100 ---\n",
      "Accuracy:      0.3242009132420091\n",
      "Precision:     0.3297296791475126\n",
      "Recall:        0.3226429904844728\n",
      "F1 Score:      0.323478816121275\n",
      "Kappa Score:   -0.022710599594538028\n"
     ]
    }
   ],
   "source": [
    "k_values = [3, 5, 7, 9, 10, 15, 20, 30, 100]\n",
    "\n",
    "for k in k_values:\n",
    "    print(f\"\\n--- KNN with k = {k} ---\")\n",
    "\n",
    "    knnModel = KNeighborsClassifier(n_neighbors=k)\n",
    "    knnModel.fit(X_trainTCH, y_trainTCH)\n",
    "    y_pred = knn.predict(X_testTCH)\n",
    "\n",
    "    print(\"Accuracy:     \", accuracy_score(y_testTCH, y_pred))\n",
    "    print(\"Precision:    \", precision_score(y_testTCH, y_pred, average='macro'))\n",
    "    print(\"Recall:       \", recall_score(y_testTCH, y_pred, average='macro'))\n",
    "    print(\"F1 Score:     \", f1_score(y_testTCH, y_pred, average='macro'))\n",
    "    print(\"Kappa Score:  \", cohen_kappa_score(y_testTCH, y_pred))"
   ]
  },
  {
   "cell_type": "markdown",
   "id": "31eacddf",
   "metadata": {},
   "source": [
    "# Aqui haces lo mismo con estos dos grupitos"
   ]
  },
  {
   "cell_type": "code",
   "execution_count": 93,
   "id": "0add7a4f",
   "metadata": {},
   "outputs": [
    {
     "name": "stdout",
     "output_type": "stream",
     "text": [
      "Cross validation F1 Score:  0.47000238037595005\n",
      "Cross validation F1 Score std:  0.038573153299882805\n"
     ]
    }
   ],
   "source": [
    "knnModel = KNeighborsClassifier(n_neighbors=5)\n",
    "scores = cross_val_score(knnModel, X_trainSac, y_trainSac, cv=5, scoring='f1_macro')\n",
    "print(\"Cross validation F1 Score: \", scores.mean())\n",
    "print(\"Cross validation F1 Score std: \", scores.std())"
   ]
  },
  {
   "cell_type": "code",
   "execution_count": 94,
   "id": "1ec82ecb",
   "metadata": {},
   "outputs": [
    {
     "name": "stdout",
     "output_type": "stream",
     "text": [
      "Cross validation F1 Score:  0.4341828231769007\n",
      "Cross validation F1 Score std:  0.014579155806458952\n"
     ]
    }
   ],
   "source": [
    "knnModel = KNeighborsClassifier(n_neighbors=5)\n",
    "scores = cross_val_score(knnModel, X_trainTCH, y_trainTCH, cv=5, scoring='f1_macro')\n",
    "print(\"Cross validation F1 Score: \", scores.mean())\n",
    "print(\"Cross validation F1 Score std: \", scores.std())"
   ]
  },
  {
   "cell_type": "markdown",
   "id": "4f47161d",
   "metadata": {},
   "source": [
    "## Random Forest"
   ]
  },
  {
   "cell_type": "markdown",
   "id": "9fab116e",
   "metadata": {},
   "source": [
    "#### Sucrose Levels"
   ]
  },
  {
   "cell_type": "code",
   "execution_count": 95,
   "id": "ae6b0246",
   "metadata": {},
   "outputs": [],
   "source": [
    "from sklearn.ensemble import RandomForestClassifier"
   ]
  },
  {
   "cell_type": "code",
   "execution_count": 98,
   "id": "c2f57a10",
   "metadata": {},
   "outputs": [
    {
     "name": "stdout",
     "output_type": "stream",
     "text": [
      "\n",
      "--- Random Forest with 5 trees ---\n",
      "Accuracy:      0.4840182648401826\n",
      "Precision:     0.4656637078599175\n",
      "Recall:        0.4787718320327016\n",
      "F1 Score:      0.469509538928852\n",
      "Kappa Score:   0.223550451807229\n",
      "\n",
      "--- Random Forest with 10 trees ---\n",
      "Accuracy:      0.5091324200913242\n",
      "Precision:     0.4949972135817353\n",
      "Recall:        0.504304471695776\n",
      "F1 Score:      0.4977508840333864\n",
      "Kappa Score:   0.26203686289260864\n",
      "\n",
      "--- Random Forest with 25 trees ---\n",
      "Accuracy:      0.5365296803652968\n",
      "Precision:     0.5254373497569792\n",
      "Recall:        0.532608695652174\n",
      "F1 Score:      0.5279016555290307\n",
      "Kappa Score:   0.3032582631999625\n",
      "\n",
      "--- Random Forest with 50 trees ---\n",
      "Accuracy:      0.547945205479452\n",
      "Precision:     0.5326462750197246\n",
      "Recall:        0.5435247120029728\n",
      "F1 Score:      0.5349238249011514\n",
      "Kappa Score:   0.3200677392040643\n",
      "\n",
      "--- Random Forest with 100 trees ---\n",
      "Accuracy:      0.541095890410959\n",
      "Precision:     0.5287583365192643\n",
      "Recall:        0.5371376811594203\n",
      "F1 Score:      0.5309039918414918\n",
      "Kappa Score:   0.31034968979131416\n",
      "\n",
      "--- Random Forest with 150 trees ---\n",
      "Accuracy:      0.547945205479452\n",
      "Precision:     0.5319830496301085\n",
      "Recall:        0.5430679425244643\n",
      "F1 Score:      0.5347621536283956\n",
      "Kappa Score:   0.32019565421879403\n",
      "\n",
      "--- Random Forest with 200 trees ---\n",
      "Accuracy:      0.5342465753424658\n",
      "Precision:     0.5215335024307758\n",
      "Recall:        0.5298138857921467\n",
      "F1 Score:      0.5240154194392754\n",
      "Kappa Score:   0.3001221919353322\n"
     ]
    }
   ],
   "source": [
    "n_estimators = [5, 10, 25, 50, 100, 150, 200]\n",
    "\n",
    "for n in n_estimators:\n",
    "    rfModel = RandomForestClassifier(n_estimators=n, random_state=42)\n",
    "    rfModel.fit(X_trainSac, y_trainSac)\n",
    "    y_pred = rfModel.predict(X_testSac)\n",
    "    \n",
    "    print(f\"\\n--- Random Forest with {n} trees ---\")\n",
    "    print(\"Accuracy:     \", accuracy_score(y_testSac, y_pred))\n",
    "    print(\"Precision:    \", precision_score(y_testSac, y_pred, average='macro'))\n",
    "    print(\"Recall:       \", recall_score(y_testSac, y_pred, average='macro'))\n",
    "    print(\"F1 Score:     \", f1_score(y_testSac, y_pred, average='macro'))\n",
    "    print(\"Kappa Score:  \", cohen_kappa_score(y_testSac, y_pred))"
   ]
  },
  {
   "cell_type": "markdown",
   "id": "11906664",
   "metadata": {},
   "source": [
    "#### TCH LEvels"
   ]
  },
  {
   "cell_type": "code",
   "execution_count": 99,
   "id": "27b0537e",
   "metadata": {},
   "outputs": [
    {
     "name": "stdout",
     "output_type": "stream",
     "text": [
      "\n",
      "--- Random Forest with 5 trees ---\n",
      "Accuracy:      0.45662100456621\n",
      "Precision:     0.4353052240317878\n",
      "Recall:        0.4406789002921541\n",
      "F1 Score:      0.4352431688048126\n",
      "Kappa Score:   0.1725484593037102\n",
      "\n",
      "--- Random Forest with 10 trees ---\n",
      "Accuracy:      0.4771689497716895\n",
      "Precision:     0.4661650518793376\n",
      "Recall:        0.46653259535172875\n",
      "F1 Score:      0.4663222658232729\n",
      "Kappa Score:   0.210959809312534\n",
      "\n",
      "--- Random Forest with 25 trees ---\n",
      "Accuracy:      0.5136986301369864\n",
      "Precision:     0.5085226222914613\n",
      "Recall:        0.5047643121456126\n",
      "F1 Score:      0.5062296082448873\n",
      "Kappa Score:   0.26775973439866896\n",
      "\n",
      "--- Random Forest with 50 trees ---\n",
      "Accuracy:      0.5228310502283106\n",
      "Precision:     0.5173407169780782\n",
      "Recall:        0.5146522353368503\n",
      "F1 Score:      0.5156191545080434\n",
      "Kappa Score:   0.28196721311475403\n",
      "\n",
      "--- Random Forest with 100 trees ---\n",
      "Accuracy:      0.5228310502283106\n",
      "Precision:     0.5226425982893657\n",
      "Recall:        0.5184063194695474\n",
      "F1 Score:      0.5191294503808672\n",
      "Kappa Score:   0.283792982044361\n",
      "\n",
      "--- Random Forest with 150 trees ---\n",
      "Accuracy:      0.5251141552511416\n",
      "Precision:     0.5249857392714535\n",
      "Recall:        0.5207211342843622\n",
      "F1 Score:      0.5213558989952083\n",
      "Kappa Score:   0.28750967802482263\n",
      "\n",
      "--- Random Forest with 200 trees ---\n",
      "Accuracy:      0.5273972602739726\n",
      "Precision:     0.5267438606648333\n",
      "Recall:        0.5217696715056327\n",
      "F1 Score:      0.5228927930901267\n",
      "Kappa Score:   0.2906799352219118\n"
     ]
    }
   ],
   "source": [
    "for n in n_estimators:\n",
    "    rfModel = RandomForestClassifier(n_estimators=n, random_state=42)\n",
    "    rfModel.fit(X_trainTCH, y_trainTCH)\n",
    "    y_pred = rfModel.predict(X_testTCH)\n",
    "    \n",
    "    print(f\"\\n--- Random Forest with {n} trees ---\")\n",
    "    print(\"Accuracy:     \", accuracy_score(y_testTCH, y_pred))\n",
    "    print(\"Precision:    \", precision_score(y_testTCH, y_pred, average='macro'))\n",
    "    print(\"Recall:       \", recall_score(y_testTCH, y_pred, average='macro'))\n",
    "    print(\"F1 Score:     \", f1_score(y_testTCH, y_pred, average='macro'))\n",
    "    print(\"Kappa Score:  \", cohen_kappa_score(y_testTCH, y_pred))"
   ]
  },
  {
   "cell_type": "markdown",
   "id": "fbc4bc0e",
   "metadata": {},
   "source": [
    "# El ultimo de esto"
   ]
  },
  {
   "cell_type": "code",
   "execution_count": 100,
   "id": "ed3f195c",
   "metadata": {},
   "outputs": [
    {
     "name": "stdout",
     "output_type": "stream",
     "text": [
      "Cross validation F1 Score:  0.5470370357867519\n",
      "Cross validation F1 Score std:  0.01854838768123602\n"
     ]
    }
   ],
   "source": [
    "rfModel = RandomForestClassifier(n_estimators=n, random_state=42)\n",
    "scores = cross_val_score(rfModel, X_trainSac, y_trainSac, cv=5, scoring='f1_macro')\n",
    "print(\"Cross validation F1 Score: \", scores.mean())\n",
    "print(\"Cross validation F1 Score std: \", scores.std())"
   ]
  },
  {
   "cell_type": "code",
   "execution_count": 101,
   "id": "53af4cc2",
   "metadata": {},
   "outputs": [
    {
     "name": "stdout",
     "output_type": "stream",
     "text": [
      "Cross validation F1 Score:  0.4341828231769007\n",
      "Cross validation F1 Score std:  0.014579155806458952\n"
     ]
    }
   ],
   "source": [
    "rfModel = RandomForestClassifier(n_estimators=n, random_state=42)\n",
    "scores = cross_val_score(knnModel, X_trainTCH, y_trainTCH, cv=5, scoring='f1_macro')\n",
    "print(\"Cross validation F1 Score: \", scores.mean())\n",
    "print(\"Cross validation F1 Score std: \", scores.std())"
   ]
  }
 ],
 "metadata": {
  "kernelspec": {
   "display_name": "Python 3",
   "language": "python",
   "name": "python3"
  },
  "language_info": {
   "codemirror_mode": {
    "name": "ipython",
    "version": 3
   },
   "file_extension": ".py",
   "mimetype": "text/x-python",
   "name": "python",
   "nbconvert_exporter": "python",
   "pygments_lexer": "ipython3",
   "version": "3.13.2"
  }
 },
 "nbformat": 4,
 "nbformat_minor": 5
}
